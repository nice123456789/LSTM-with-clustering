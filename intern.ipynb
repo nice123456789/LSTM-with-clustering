{
  "nbformat": 4,
  "nbformat_minor": 0,
  "metadata": {
    "colab": {
      "name": "intern.ipynb",
      "provenance": []
    },
    "kernelspec": {
      "name": "python3",
      "display_name": "Python 3"
    }
  },
  "cells": [
    {
      "cell_type": "code",
      "metadata": {
        "id": "5iDo9J3gieN9",
        "outputId": "8e9b2434-b8ee-42dd-e92a-0ba93ae2b3b7",
        "colab": {
          "resources": {
            "http://localhost:8080/nbextensions/google.colab/files.js": {
              "data": "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",
              "ok": true,
              "headers": [
                [
                  "content-type",
                  "application/javascript"
                ]
              ],
              "status": 200,
              "status_text": ""
            }
          },
          "base_uri": "https://localhost:8080/",
          "height": 73
        }
      },
      "source": [
        "from google.colab import files\n",
        "import pandas as pd\n",
        "import io\n",
        "uploaded=files.upload()\n",
        "df = pd.read_csv(io.BytesIO(uploaded['wind dataset-2007.csv']),header=3)\n"
      ],
      "execution_count": 164,
      "outputs": [
        {
          "output_type": "display_data",
          "data": {
            "text/html": [
              "\n",
              "     <input type=\"file\" id=\"files-416b5b0e-d4ff-419b-8203-acd1d955e24c\" name=\"files[]\" multiple disabled\n",
              "        style=\"border:none\" />\n",
              "     <output id=\"result-416b5b0e-d4ff-419b-8203-acd1d955e24c\">\n",
              "      Upload widget is only available when the cell has been executed in the\n",
              "      current browser session. Please rerun this cell to enable.\n",
              "      </output>\n",
              "      <script src=\"/nbextensions/google.colab/files.js\"></script> "
            ],
            "text/plain": [
              "<IPython.core.display.HTML object>"
            ]
          },
          "metadata": {
            "tags": []
          }
        },
        {
          "output_type": "stream",
          "text": [
            "Saving wind dataset-2007.csv to wind dataset-2007 (5).csv\n"
          ],
          "name": "stdout"
        }
      ]
    },
    {
      "cell_type": "code",
      "metadata": {
        "id": "Wdgr-XpKjRjZ"
      },
      "source": [
        "import numpy as np\n",
        "import scipy\n",
        "import matplotlib.pyplot as plt\n",
        "from pandas.plotting import register_matplotlib_converters\n",
        "register_matplotlib_converters()\n",
        "from sklearn.metrics import mean_squared_error\n",
        "from sklearn.metrics import mean_absolute_error\n",
        "from sklearn.cluster import KMeans\n",
        "from sklearn.preprocessing import MinMaxScaler\n",
        "import keras\n",
        "from keras.models import Sequential\n",
        "from keras.layers import Dense, LSTM"
      ],
      "execution_count": 165,
      "outputs": []
    },
    {
      "cell_type": "code",
      "metadata": {
        "id": "nkf3I5p9nNpe"
      },
      "source": [
        "series = df\n",
        "series=series['wind_sp']\n",
        "test = series[10000:11000]\n",
        "series = series[:10000]\n",
        "series_size = series.size\n",
        "series = series.tolist()\n",
        "test=test.tolist()"
      ],
      "execution_count": 166,
      "outputs": []
    },
    {
      "cell_type": "code",
      "metadata": {
        "id": "HIGRbEkSn5yk"
      },
      "source": [
        "segment_size = 10\n",
        "segments = []\n",
        "no_of_clusters = 10\n",
        "original_segment = []\n",
        "for i in range(0,series_size,segment_size):\n",
        "    no_of_up = 0\n",
        "    sum_of_up = 0\n",
        "    no_of_down = 0\n",
        "    sum_of_down = 0\n",
        "    no_of_equal = 0\n",
        "    sum_of_equal = 0 \n",
        "    temp = []\n",
        "    temp.append(series[i])\n",
        "    for j in range(i+1,i+10):\n",
        "        temp.append(series[j])\n",
        "        if(series[j]>series[j-1]):\n",
        "            no_of_up = no_of_up +1\n",
        "            sum_of_up = sum_of_up + series[j]\n",
        "        elif(series[j]<series[j-1]):\n",
        "            no_of_down = no_of_down +1\n",
        "            sum_of_down = sum_of_down + series[j]\n",
        "        else:\n",
        "            no_of_equal = no_of_equal +1\n",
        "            sum_of_equal = sum_of_equal + series[j]\n",
        "    if(no_of_up==0):\n",
        "        mean_of_up = 0\n",
        "    else:\n",
        "        mean_of_up = sum_of_up/no_of_up\n",
        "    if(no_of_down==0):\n",
        "        mean_of_down = 0\n",
        "    else:\n",
        "        mean_of_down = sum_of_down/no_of_down\n",
        "    if(no_of_equal==0):\n",
        "        mean_of_equal = 0\n",
        "    else:\n",
        "        mean_of_equal = sum_of_equal/no_of_equal\n",
        "    segments.append([mean_of_up,mean_of_down,mean_of_equal])\n",
        "    original_segment.append(temp)\n"
      ],
      "execution_count": 167,
      "outputs": []
    },
    {
      "cell_type": "code",
      "metadata": {
        "id": "NykyMpkqoBnw",
        "outputId": "07d4cd21-b580-4422-dc3a-92d7807c392a",
        "colab": {
          "base_uri": "https://localhost:8080/"
        }
      },
      "source": [
        "print(len(segments))\n",
        "X = np.array(segments)\n",
        "kmeans = KMeans(n_clusters=no_of_clusters,init='k-means++', random_state=0).fit(X)\n",
        "print(kmeans.labels_)\n",
        "\n",
        "segment_label_map = {}\n",
        "for i in range(0,no_of_clusters):\n",
        "    segment_label_map[i] = []\n",
        "\n",
        "for i in range(0,len(segments)):\n",
        "    segment_label_map[kmeans.labels_[i]].append(i)\n",
        "    \n",
        "original_points_in_cluster = []\n",
        "for i in range(0,no_of_clusters):\n",
        "    temp = []\n",
        "    for x in segment_label_map[i]:\n",
        "        for y in original_segment[x]:\n",
        "            temp.append(y)\n",
        "    original_points_in_cluster.append(temp)\n",
        "\n",
        "m=10000000\n",
        "print(no_of_clusters)\n",
        "for i in range(0,no_of_clusters):\n",
        "    if(m>len(original_points_in_cluster[i])):        \n",
        "        m=len(original_points_in_cluster[i])\n",
        "print(m)\n",
        "n=-m\n",
        "clusters= [[0 for x in range(m)] for x in range(no_of_clusters)]\n",
        "for i in range(0,no_of_clusters):\n",
        "    clusters[i]=original_points_in_cluster[i][n:-1]\n",
        "\n",
        "#for i in range(0,no_of_clusters):\n",
        " #   for x in clusters[i]:\n",
        "  #     print(x,end=\" \")\n",
        "tar=series[n:-1]\n",
        "maximum=0\n",
        "for i in range(0,no_of_clusters):\n",
        "    corr, _ = scipy.stats.pearsonr(clusters[i], tar) \n",
        "    if(maximum<corr):\n",
        "        maximum=corr\n",
        "        index=i"
      ],
      "execution_count": 168,
      "outputs": [
        {
          "output_type": "stream",
          "text": [
            "1000\n",
            "[3 3 6 6 0 5 5 5 0 5 0 5 5 6 6 4 4 5 5 5 5 5 6 6 8 6 8 1 8 7 0 0 0 5 5 0 5\n",
            " 6 5 6 8 8 8 1 8 8 8 1 1 8 8 9 7 8 1 7 8 8 8 8 8 8 1 7 7 7 4 8 4 8 8 1 8 8\n",
            " 8 8 8 1 4 7 7 8 8 4 0 5 2 2 2 2 2 2 2 2 2 2 2 2 7 1 8 8 8 8 8 8 8 0 5 5 5\n",
            " 5 5 5 5 5 5 4 0 5 5 5 4 5 3 3 5 3 3 3 3 3 3 3 3 5 5 5 5 5 5 6 4 8 1 4 1 7\n",
            " 8 8 1 2 7 8 2 2 2 7 2 2 2 2 9 2 2 2 2 2 2 7 8 8 7 8 0 8 8 5 6 8 8 8 8 8 8\n",
            " 1 1 1 1 2 2 2 2 1 1 2 2 2 2 2 2 1 2 2 2 2 2 2 2 2 2 2 7 2 2 2 2 2 2 2 2 9\n",
            " 2 7 2 7 8 8 9 7 7 1 8 8 0 6 8 0 4 0 8 5 5 5 6 6 8 8 0 0 3 6 8 8 1 1 1 2 7\n",
            " 8 1 2 1 2 2 2 9 2 7 7 8 8 2 0 5 8 8 5 5 6 1 1 9 8 2 2 2 7 2 8 7 8 8 7 4 4\n",
            " 8 4 8 0 6 8 0 0 3 5 5 4 5 6 5 6 0 0 5 4 5 5 5 5 4 4 5 5 6 5 5 5 5 5 5 5 4\n",
            " 5 5 5 5 5 5 5 5 5 5 5 5 4 5 5 5 5 3 3 3 3 3 3 3 3 3 3 3 3 3 6 5 5 0 0 3 3\n",
            " 3 3 3 3 5 3 6 5 0 3 3 3 3 3 3 3 3 3 3 3 5 5 5 6 5 0 0 3 3 3 5 6 4 5 0 6 6\n",
            " 5 5 5 8 8 8 8 8 1 8 8 8 1 8 8 1 7 8 1 8 7 7 4 4 0 8 8 8 4 8 0 8 0 5 0 5 5\n",
            " 5 5 5 5 0 5 5 5 0 3 3 3 3 3 3 3 3 3 3 3 3 3 3 6 5 5 5 6 6 1 1 2 2 2 7 7 0\n",
            " 1 1 7 7 8 8 8 2 7 8 8 4 7 8 8 4 8 0 5 6 1 8 8 7 8 1 8 9 8 7 8 1 2 1 1 7 7\n",
            " 2 9 2 7 8 8 8 7 0 6 0 0 5 5 5 5 6 4 5 6 5 0 6 5 3 3 3 3 3 3 3 3 3 3 3 3 3\n",
            " 3 3 3 3 3 3 3 3 6 6 5 6 6 8 5 4 6 4 5 0 0 0 3 3 3 3 3 3 5 5 5 5 5 5 5 0 0\n",
            " 0 0 5 5 3 3 3 3 3 5 5 5 5 5 5 0 5 5 5 6 6 1 1 8 8 8 8 7 8 7 8 1 1 9 1 8 7\n",
            " 9 1 1 7 8 1 2 8 7 8 7 8 8 1 8 8 8 8 8 4 8 8 6 8 8 8 8 1 1 9 7 7 0 8 0 5 5\n",
            " 6 6 4 0 4 8 8 8 5 0 6 4 5 4 5 6 5 5 6 6 8 0 0 0 0 5 5 5 0 0 3 3 3 3 3 3 3\n",
            " 3 3 3 6 6 5 6 8 0 0 0 5 6 0 5 6 5 5 6 8 5 8 6 0 0 0 5 5 5 6 5 0 0 0 0 5 6\n",
            " 5 4 0 5 0 3 3 3 5 5 5 3 3 3 3 3 3 3 3 3 3 3 3 3 3 3 3 3 5 3 6 5 0 5 5 5 5\n",
            " 5 5 6 6 6 8 8 8 7 5 6 8 8 8 8 8 1 8 8 7 9 8 7 0 0 6 1 1 7 8 7 1 1 9 7 7 7\n",
            " 0 0 0 0 0 0 5 6 5 0 0 5 0 5 5 0 5 3 3 3 3 3 3 3 3 3 3 3 3 3 3 3 3 3 3 3 3\n",
            " 3 3 3 3 6 6 5 6 8 8 0 5 5 5 0 5 3 3 3 3 3 3 3 3 3 3 3 3 3 5 6 6 5 5 5 5 4\n",
            " 0 5 5 5 5 4 5 5 6 8 8 8 0 0 5 5 5 5 5 5 8 5 5 5 5 5 0 0 5 5 5 5 5 6 5 5 5\n",
            " 8 8 1 2 2 2 9 2 2 2 1 1 7 2 2 2 2 2 2 8 8 1 2 1 1 9 2 2 2 2 2 2 2 1 2 2 2\n",
            " 1 2 2 2 2 2 2 9 2 2 2 2 2 2 2 2 2 9 2 7 2 7 7 7 8 1 1 2 2 2 2 7 9 2 7 8 7\n",
            " 8]\n",
            "10\n",
            "180\n"
          ],
          "name": "stdout"
        }
      ]
    },
    {
      "cell_type": "code",
      "metadata": {
        "id": "z6s4HjbtoNME"
      },
      "source": [
        "selected_cluster=original_points_in_cluster[index]\n",
        "train=selected_cluster\n",
        "scaler = MinMaxScaler(feature_range=(0, 1))\n",
        "train_scaled = scaler.fit_transform(np.array(train).reshape(-1,1))\n",
        "test_scaled=   scaler.fit_transform(np.array(test).reshape(-1,1))\n"
      ],
      "execution_count": 169,
      "outputs": []
    },
    {
      "cell_type": "code",
      "metadata": {
        "id": "Lpm7cAnUrb4W"
      },
      "source": [
        "def create_dataset(dataset, time_step=1):\n",
        "\tdataX, dataY = [], []\n",
        "\tfor i in range(len(dataset)-time_step-1):\n",
        "\t\ta = dataset[i:(i+time_step)]   ###i=0, 0,1,2,3-----99   100 \n",
        "\t\tdataX.append(a)\n",
        "\t\tdataY.append(dataset[i + time_step])\n",
        "\treturn np.array(dataX), np.array(dataY)\n"
      ],
      "execution_count": 170,
      "outputs": []
    },
    {
      "cell_type": "code",
      "metadata": {
        "id": "PjlNUFgsresu"
      },
      "source": [
        "time_step = 100\n",
        "X_train, y_train = create_dataset(train_scaled, time_step)\n",
        "X_test, y_test = create_dataset(test_scaled, time_step)"
      ],
      "execution_count": 171,
      "outputs": []
    },
    {
      "cell_type": "code",
      "metadata": {
        "id": "A2f-TS9_wnZz",
        "outputId": "0d22fdf1-bad3-4abe-f27d-dba94b54eca3",
        "colab": {
          "base_uri": "https://localhost:8080/"
        }
      },
      "source": [
        "X_train =X_train.reshape(X_train.shape[0],X_train.shape[1] , 1)\n",
        "X_test = X_test.reshape(X_test.shape[0],X_test.shape[1] , 1)\n",
        "X_test.shape"
      ],
      "execution_count": 172,
      "outputs": [
        {
          "output_type": "execute_result",
          "data": {
            "text/plain": [
              "(899, 100, 1)"
            ]
          },
          "metadata": {
            "tags": []
          },
          "execution_count": 172
        }
      ]
    },
    {
      "cell_type": "code",
      "metadata": {
        "id": "nHWZGPTap4Nt"
      },
      "source": [
        "model=Sequential()\n",
        "model.add(LSTM(50,return_sequences=True,input_shape=(100,1)))\n",
        "model.add(LSTM(50,return_sequences=True))\n",
        "model.add(LSTM(50))\n",
        "model.add(Dense(1))\n",
        "model.compile(loss='mean_squared_error',optimizer='adam',metrics=['accuracy'])\n"
      ],
      "execution_count": 173,
      "outputs": []
    },
    {
      "cell_type": "code",
      "metadata": {
        "id": "_q5IzU2ywYyv",
        "outputId": "ef83ee82-92bf-49a8-f88b-8acc51c1958c",
        "colab": {
          "base_uri": "https://localhost:8080/"
        }
      },
      "source": [
        "model.fit(X_train,y_train,epochs=20)"
      ],
      "execution_count": 174,
      "outputs": [
        {
          "output_type": "stream",
          "text": [
            "Epoch 1/20\n",
            "20/20 [==============================] - 2s 121ms/step - loss: 0.0700 - accuracy: 0.0016\n",
            "Epoch 2/20\n",
            "20/20 [==============================] - 3s 127ms/step - loss: 0.0333 - accuracy: 0.0016\n",
            "Epoch 3/20\n",
            "20/20 [==============================] - 2s 124ms/step - loss: 0.0298 - accuracy: 0.0033\n",
            "Epoch 4/20\n",
            "20/20 [==============================] - 2s 124ms/step - loss: 0.0272 - accuracy: 0.0033\n",
            "Epoch 5/20\n",
            "20/20 [==============================] - 2s 122ms/step - loss: 0.0249 - accuracy: 0.0033\n",
            "Epoch 6/20\n",
            "20/20 [==============================] - 2s 121ms/step - loss: 0.0239 - accuracy: 0.0033\n",
            "Epoch 7/20\n",
            "20/20 [==============================] - 2s 120ms/step - loss: 0.0216 - accuracy: 0.0033\n",
            "Epoch 8/20\n",
            "20/20 [==============================] - 2s 121ms/step - loss: 0.0211 - accuracy: 0.0033\n",
            "Epoch 9/20\n",
            "20/20 [==============================] - 2s 121ms/step - loss: 0.0190 - accuracy: 0.0033\n",
            "Epoch 10/20\n",
            "20/20 [==============================] - 2s 120ms/step - loss: 0.0189 - accuracy: 0.0016\n",
            "Epoch 11/20\n",
            "20/20 [==============================] - 2s 120ms/step - loss: 0.0180 - accuracy: 0.0016\n",
            "Epoch 12/20\n",
            "20/20 [==============================] - 2s 121ms/step - loss: 0.0169 - accuracy: 0.0016\n",
            "Epoch 13/20\n",
            "20/20 [==============================] - 2s 119ms/step - loss: 0.0164 - accuracy: 0.0016\n",
            "Epoch 14/20\n",
            "20/20 [==============================] - 2s 119ms/step - loss: 0.0170 - accuracy: 0.0033\n",
            "Epoch 15/20\n",
            "20/20 [==============================] - 2s 120ms/step - loss: 0.0142 - accuracy: 0.0016\n",
            "Epoch 16/20\n",
            "20/20 [==============================] - 2s 122ms/step - loss: 0.0141 - accuracy: 0.0016\n",
            "Epoch 17/20\n",
            "20/20 [==============================] - 2s 121ms/step - loss: 0.0169 - accuracy: 0.0016\n",
            "Epoch 18/20\n",
            "20/20 [==============================] - 2s 122ms/step - loss: 0.0134 - accuracy: 0.0016\n",
            "Epoch 19/20\n",
            "20/20 [==============================] - 2s 122ms/step - loss: 0.0116 - accuracy: 0.0016\n",
            "Epoch 20/20\n",
            "20/20 [==============================] - 2s 122ms/step - loss: 0.0113 - accuracy: 0.0016\n"
          ],
          "name": "stdout"
        },
        {
          "output_type": "execute_result",
          "data": {
            "text/plain": [
              "<tensorflow.python.keras.callbacks.History at 0x7fce91944f28>"
            ]
          },
          "metadata": {
            "tags": []
          },
          "execution_count": 174
        }
      ]
    },
    {
      "cell_type": "code",
      "metadata": {
        "id": "tjPcjLa10fPi"
      },
      "source": [
        "train_predict=model.predict(X_train)\n",
        "test_predict=model.predict(X_test)\n",
        "train_predict=scaler.inverse_transform(train_predict)\n",
        "test_predict=scaler.inverse_transform(test_predict)\n",
        "y_train=scaler.inverse_transform(y_train)\n",
        "y_test=scaler.inverse_transform(y_test)"
      ],
      "execution_count": 175,
      "outputs": []
    },
    {
      "cell_type": "code",
      "metadata": {
        "id": "v7VB1FLb34o2",
        "outputId": "713a6c81-051f-40a9-fca2-388b2fb77063",
        "colab": {
          "base_uri": "https://localhost:8080/"
        }
      },
      "source": [
        "import math\n",
        "from sklearn.metrics import mean_squared_error\n",
        "math.sqrt(mean_squared_error(y_train,train_predict))\n",
        "math.sqrt(mean_squared_error(y_test,test_predict))"
      ],
      "execution_count": 176,
      "outputs": [
        {
          "output_type": "execute_result",
          "data": {
            "text/plain": [
              "2.0792547402557227"
            ]
          },
          "metadata": {
            "tags": []
          },
          "execution_count": 176
        }
      ]
    },
    {
      "cell_type": "code",
      "metadata": {
        "id": "8gi0uIJ350AK",
        "outputId": "fb984b11-314f-4c26-b519-32f1ec04d8ef",
        "colab": {
          "base_uri": "https://localhost:8080/",
          "height": 265
        }
      },
      "source": [
        "### Plotting \n",
        "# shift train predictions for plotting\n",
        "t = np.linspace(0,900)\n",
        "plt.plot(y_test,color='red')\n",
        "plt.plot(test_predict,color='green')\n",
        "plt.show()"
      ],
      "execution_count": 177,
      "outputs": [
        {
          "output_type": "display_data",
          "data": {
            "image/png": "[encoded data removed]",
            "text/plain": [
              "<Figure size 432x288 with 1 Axes>"
            ]
          },
          "metadata": {
            "tags": [],
            "needs_background": "light"
          }
        }
      ]
    }
  ]
}